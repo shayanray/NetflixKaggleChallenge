{
 "cells": [
  {
   "cell_type": "code",
   "execution_count": 1,
   "metadata": {
    "collapsed": false
   },
   "outputs": [],
   "source": [
    "# Netflix Prediction by Shayan Ray, Tan Le, Ce Wu\n",
    "# All necessary imports placed here\n",
    "\n",
    "import numpy as np # linear algebra\n",
    "import pandas as pd # data processing, CSV file I/O (e.g. pd.read_csv)\n",
    "import math\n",
    "import re\n",
    "from scipy.sparse import csr_matrix\n",
    "import matplotlib.pyplot as plt\n",
    "import seaborn as sns\n",
    "from surprise import Reader, Dataset, KNNBaseline, evaluate\n",
    "from sklearn.model_selection import train_test_split\n",
    "from sklearn.linear_model import LogisticRegression\n",
    "from sklearn.linear_model import LinearRegression\n",
    "from sklearn.metrics import accuracy_score\n",
    "sns.set_style(\"darkgrid\")\n",
    "from sklearn.metrics import mean_squared_error\n",
    "from sklearn.metrics import mean_absolute_error\n",
    "from surprise import KNNBaseline\n"
   ]
  },
  {
   "cell_type": "code",
   "execution_count": 2,
   "metadata": {
    "collapsed": true
   },
   "outputs": [],
   "source": [
    "# parameters/variables to set\n",
    "\n",
    "baseDataPath='/users/tanle/A1/data/'\n",
    "sampleFraction = 0.02 # 2% of the data\n",
    "sampleSize=10000  # used only to get started or for a quick code run"
   ]
  },
  {
   "cell_type": "code",
   "execution_count": 3,
   "metadata": {
    "collapsed": false
   },
   "outputs": [
    {
     "data": {
      "text/plain": [
       "(100498277, 2)"
      ]
     },
     "execution_count": 3,
     "metadata": {},
     "output_type": "execute_result"
    }
   ],
   "source": [
    "# load the training dataset\n",
    "df1 = pd.read_csv(baseDataPath + 'combined_data_1.txt', header = None, names = ['CustomerId', 'Rating'], usecols = [0,1])\n",
    "df2 = pd.read_csv(baseDataPath + 'combined_data_2.txt', header = None, names = ['CustomerId', 'Rating'], usecols = [0,1])\n",
    "df3 = pd.read_csv(baseDataPath + 'combined_data_3.txt', header = None, names = ['CustomerId', 'Rating'], usecols = [0,1])\n",
    "df4 = pd.read_csv(baseDataPath + 'combined_data_4.txt', header = None, names = ['CustomerId', 'Rating'], usecols = [0,1])\n",
    "org_df = df1\n",
    "org_df = org_df.append(df2)\n",
    "org_df = org_df.append(df3)\n",
    "org_df = org_df.append(df4)\n",
    "org_df.shape"
   ]
  },
  {
   "cell_type": "code",
   "execution_count": 4,
   "metadata": {
    "collapsed": false
   },
   "outputs": [],
   "source": [
    "#load the probe dataset\n",
    "probe_df = pd.read_csv(baseDataPath +'/probe.txt', header = None, names = ['CustomerId'], usecols = [0])"
   ]
  },
  {
   "cell_type": "code",
   "execution_count": 5,
   "metadata": {
    "collapsed": true
   },
   "outputs": [],
   "source": [
    "#load the qualifying dataset\n",
    "#qualify_df=pd.read_csv(baseDataPath +'qualifying.txt', header = None, names = ['CustomerId'], usecols = [0])"
   ]
  },
  {
   "cell_type": "code",
   "execution_count": 6,
   "metadata": {
    "collapsed": false
   },
   "outputs": [
    {
     "data": {
      "text/plain": [
       "(2009966, 2)"
      ]
     },
     "execution_count": 6,
     "metadata": {},
     "output_type": "execute_result"
    }
   ],
   "source": [
    "#work with samples for faster run-time\n",
    "#org_df = org_df.iloc[0:sampleSize,:]\n",
    "org_df = org_df.sample(frac=sampleFraction, replace=True)\n",
    "#probe_df = probe_df.iloc[0:sampleSize, :]\n",
    "#qualify_df = qualify_df.iloc[0:sampleSize, :]\n",
    "org_df.shape"
   ]
  },
  {
   "cell_type": "code",
   "execution_count": 7,
   "metadata": {
    "collapsed": false
   },
   "outputs": [
    {
     "data": {
      "text/plain": [
       "(1425333, 1)"
      ]
     },
     "execution_count": 7,
     "metadata": {},
     "output_type": "execute_result"
    }
   ],
   "source": [
    "# check for successful data load comment out as appropriate\n",
    "probe_df.shape"
   ]
  },
  {
   "cell_type": "code",
   "execution_count": 8,
   "metadata": {
    "collapsed": false
   },
   "outputs": [
    {
     "name": "stdout",
     "output_type": "stream",
     "text": [
      "2009604\n"
     ]
    }
   ],
   "source": [
    "# store all movies from original dataset in np array\n",
    "movie_np = []\n",
    "movie_id = 0\n",
    "for index,row in org_df.iterrows():\n",
    "    if row['CustomerId'][-1] == ':' :\n",
    "        movie_id = row['CustomerId'][:-1]\n",
    "    else:\n",
    "        movie_np.append(movie_id)\n",
    "print(len(movie_np))"
   ]
  },
  {
   "cell_type": "code",
   "execution_count": 9,
   "metadata": {
    "collapsed": false
   },
   "outputs": [],
   "source": [
    "# remove those Movie ID rows from the original dataset\n",
    "org_df = org_df[pd.notnull(org_df['Rating'])]\n",
    "org_df.shape\n",
    "movie_np = np.array(movie_np)\n",
    "org_df['Movie_Id'] = movie_np.astype(int)\n",
    "org_df['CustomerId'] = org_df['CustomerId'].astype(int)"
   ]
  },
  {
   "cell_type": "code",
   "execution_count": 10,
   "metadata": {
    "collapsed": false
   },
   "outputs": [
    {
     "data": {
      "text/plain": [
       "(2009604, 3)"
      ]
     },
     "execution_count": 10,
     "metadata": {},
     "output_type": "execute_result"
    }
   ],
   "source": [
    "# check the transformed output - first few values\n",
    "org_df.shape"
   ]
  },
  {
   "cell_type": "code",
   "execution_count": 11,
   "metadata": {
    "collapsed": false
   },
   "outputs": [
    {
     "name": "stdout",
     "output_type": "stream",
     "text": [
      "1408395\n"
     ]
    }
   ],
   "source": [
    "# store all movies in probe dataframe in np array\n",
    "pmovie_np = []\n",
    "pmovie_id = 0\n",
    "probe_movies = probe_df[probe_df['CustomerId'].str.contains(\":\")] #IDs that contain ':'\n",
    "for index,row in probe_df.iterrows():\n",
    "    if row['CustomerId'][-1] == ':' :\n",
    "        \n",
    "        pmovie_id = row['CustomerId'][:-1]\n",
    "       \n",
    "    else:\n",
    "        pmovie_np.append(pmovie_id)\n",
    "print(len(pmovie_np))"
   ]
  },
  {
   "cell_type": "code",
   "execution_count": 12,
   "metadata": {
    "collapsed": false
   },
   "outputs": [
    {
     "data": {
      "text/plain": [
       "(1408395, 2)"
      ]
     },
     "execution_count": 12,
     "metadata": {},
     "output_type": "execute_result"
    }
   ],
   "source": [
    "# remove those Movie ID rows and add it as a column to probe DF\n",
    "probe_df = probe_df[~probe_df['CustomerId'].str.contains(\":\")] #IDs that dont contain ':'\n",
    "\n",
    "\n",
    "pmovie_np = np.array(pmovie_np)\n",
    "probe_df['Movie_Id'] = pmovie_np.astype(int)\n",
    "probe_df['CustomerId'] = probe_df['CustomerId'].astype(int)\n",
    "probe_df.shape\n"
   ]
  },
  {
   "cell_type": "code",
   "execution_count": 13,
   "metadata": {
    "collapsed": false
   },
   "outputs": [
    {
     "data": {
      "text/html": [
       "<div>\n",
       "<table border=\"1\" class=\"dataframe\">\n",
       "  <thead>\n",
       "    <tr style=\"text-align: right;\">\n",
       "      <th></th>\n",
       "      <th>CustomerId</th>\n",
       "      <th>Movie_Id</th>\n",
       "      <th>Rating</th>\n",
       "    </tr>\n",
       "  </thead>\n",
       "  <tbody>\n",
       "    <tr>\n",
       "      <th>0</th>\n",
       "      <td>1214077</td>\n",
       "      <td>11028</td>\n",
       "      <td>3.0</td>\n",
       "    </tr>\n",
       "    <tr>\n",
       "      <th>1</th>\n",
       "      <td>1172516</td>\n",
       "      <td>11218</td>\n",
       "      <td>3.0</td>\n",
       "    </tr>\n",
       "    <tr>\n",
       "      <th>2</th>\n",
       "      <td>456921</td>\n",
       "      <td>11218</td>\n",
       "      <td>2.0</td>\n",
       "    </tr>\n",
       "    <tr>\n",
       "      <th>3</th>\n",
       "      <td>686204</td>\n",
       "      <td>11502</td>\n",
       "      <td>2.0</td>\n",
       "    </tr>\n",
       "    <tr>\n",
       "      <th>4</th>\n",
       "      <td>145863</td>\n",
       "      <td>11502</td>\n",
       "      <td>5.0</td>\n",
       "    </tr>\n",
       "  </tbody>\n",
       "</table>\n",
       "</div>"
      ],
      "text/plain": [
       "   CustomerId  Movie_Id  Rating\n",
       "0     1214077     11028     3.0\n",
       "1     1172516     11218     3.0\n",
       "2      456921     11218     2.0\n",
       "3      686204     11502     2.0\n",
       "4      145863     11502     5.0"
      ]
     },
     "execution_count": 13,
     "metadata": {},
     "output_type": "execute_result"
    }
   ],
   "source": [
    "#clean probe df and add available ratings from training data\n",
    "probe_df = pd.merge(probe_df, org_df, on=['CustomerId','Movie_Id'])\n",
    "probe_df.head()"
   ]
  },
  {
   "cell_type": "code",
   "execution_count": 14,
   "metadata": {
    "collapsed": false
   },
   "outputs": [
    {
     "data": {
      "text/html": [
       "<div>\n",
       "<table border=\"1\" class=\"dataframe\">\n",
       "  <thead>\n",
       "    <tr style=\"text-align: right;\">\n",
       "      <th></th>\n",
       "      <th>CustomerId</th>\n",
       "      <th>Rating</th>\n",
       "      <th>Movie_Id</th>\n",
       "    </tr>\n",
       "  </thead>\n",
       "  <tbody>\n",
       "    <tr>\n",
       "      <th>0</th>\n",
       "      <td>1917508</td>\n",
       "      <td>2.0</td>\n",
       "      <td>0</td>\n",
       "    </tr>\n",
       "    <tr>\n",
       "      <th>1</th>\n",
       "      <td>1019827</td>\n",
       "      <td>5.0</td>\n",
       "      <td>0</td>\n",
       "    </tr>\n",
       "    <tr>\n",
       "      <th>2</th>\n",
       "      <td>1651992</td>\n",
       "      <td>4.0</td>\n",
       "      <td>0</td>\n",
       "    </tr>\n",
       "    <tr>\n",
       "      <th>3</th>\n",
       "      <td>650350</td>\n",
       "      <td>3.0</td>\n",
       "      <td>0</td>\n",
       "    </tr>\n",
       "    <tr>\n",
       "      <th>4</th>\n",
       "      <td>483553</td>\n",
       "      <td>4.0</td>\n",
       "      <td>0</td>\n",
       "    </tr>\n",
       "  </tbody>\n",
       "</table>\n",
       "</div>"
      ],
      "text/plain": [
       "   CustomerId  Rating  Movie_Id\n",
       "0     1917508     2.0         0\n",
       "1     1019827     5.0         0\n",
       "2     1651992     4.0         0\n",
       "3      650350     3.0         0\n",
       "4      483553     4.0         0"
      ]
     },
     "execution_count": 14,
     "metadata": {},
     "output_type": "execute_result"
    }
   ],
   "source": [
    "# remove probe data from orig data\n",
    "org_df = pd.merge(org_df, probe_df,how='left',  on=['CustomerId','Movie_Id', 'Rating'])\n",
    "org_df.head()"
   ]
  },
  {
   "cell_type": "code",
   "execution_count": 15,
   "metadata": {
    "collapsed": true
   },
   "outputs": [],
   "source": [
    "# split the data in training and testing data during training (70% training, 30% testing)\n",
    "train, test = train_test_split(org_df, random_state=42, test_size=0.3)"
   ]
  },
  {
   "cell_type": "code",
   "execution_count": 16,
   "metadata": {
    "collapsed": false
   },
   "outputs": [
    {
     "data": {
      "text/plain": [
       "(602883, 3)"
      ]
     },
     "execution_count": 16,
     "metadata": {},
     "output_type": "execute_result"
    }
   ],
   "source": [
    "test.shape"
   ]
  },
  {
   "cell_type": "code",
   "execution_count": 17,
   "metadata": {
    "collapsed": true
   },
   "outputs": [],
   "source": [
    "# Remove the label -Rating from the train and test features and labels respectively (X_train, y_train, X_test, y_test \n",
    "X_test = test.loc[:, train.columns != 'Rating']\n",
    "y_test = test['Rating']\n",
    "X_train = train.loc[:, train.columns != 'Rating']\n",
    "y_train = train['Rating']"
   ]
  },
  {
   "cell_type": "code",
   "execution_count": 18,
   "metadata": {
    "collapsed": false
   },
   "outputs": [],
   "source": [
    "#sample df for grid evaluation\n",
    "#smpl_df = org_df.iloc[0:sampleSize,:]\n",
    "#org_df = org_df.iloc[0:sampleSize,:]\n",
    "\n",
    "#smpl_df = smpl_df1\n",
    "#smpl_df.shape\n",
    "#smpl_df.head()\n",
    "\n"
   ]
  },
  {
   "cell_type": "code",
   "execution_count": 19,
   "metadata": {
    "collapsed": false
   },
   "outputs": [],
   "source": [
    "# evaluating KNNBaseline\n",
    "from surprise import Reader, Dataset, KNNBaseline, evaluate\n",
    "reader = Reader(rating_scale=(1, 5))\n",
    "\n",
    "#load data for evaluation\n",
    "data = Dataset.load_from_df(org_df[['CustomerId', 'Movie_Id', 'Rating']], reader) # if sampling, [:sampleSize]\n",
    "data.split(n_folds=3)\n",
    "\n",
    "knn = KNNBaseline()\n",
    "\n",
    "#evaluate(KNNBaseline, data, measures=['RMSE', 'MAE'])"
   ]
  },
  {
   "cell_type": "code",
   "execution_count": 20,
   "metadata": {
    "collapsed": false
   },
   "outputs": [
    {
     "name": "stdout",
     "output_type": "stream",
     "text": [
      "[{'k': 2, 'bsl_options': {'method': 'als', 'reg': 1}, 'sim_options': {'min_support': 1, 'user_based': False, 'name': 'msd'}}, {'k': 2, 'bsl_options': {'method': 'als', 'reg': 2}, 'sim_options': {'min_support': 1, 'user_based': False, 'name': 'msd'}}, {'k': 2, 'bsl_options': {'method': 'sgd', 'reg': 1}, 'sim_options': {'min_support': 1, 'user_based': False, 'name': 'msd'}}, {'k': 2, 'bsl_options': {'method': 'sgd', 'reg': 2}, 'sim_options': {'min_support': 1, 'user_based': False, 'name': 'msd'}}, {'k': 2, 'bsl_options': {'method': 'als', 'reg': 1}, 'sim_options': {'min_support': 1, 'user_based': False, 'name': 'cosine'}}, {'k': 2, 'bsl_options': {'method': 'als', 'reg': 2}, 'sim_options': {'min_support': 1, 'user_based': False, 'name': 'cosine'}}, {'k': 2, 'bsl_options': {'method': 'sgd', 'reg': 1}, 'sim_options': {'min_support': 1, 'user_based': False, 'name': 'cosine'}}, {'k': 2, 'bsl_options': {'method': 'sgd', 'reg': 2}, 'sim_options': {'min_support': 1, 'user_based': False, 'name': 'cosine'}}, {'k': 2, 'bsl_options': {'method': 'als', 'reg': 1}, 'sim_options': {'min_support': 5, 'user_based': False, 'name': 'msd'}}, {'k': 2, 'bsl_options': {'method': 'als', 'reg': 2}, 'sim_options': {'min_support': 5, 'user_based': False, 'name': 'msd'}}, {'k': 2, 'bsl_options': {'method': 'sgd', 'reg': 1}, 'sim_options': {'min_support': 5, 'user_based': False, 'name': 'msd'}}, {'k': 2, 'bsl_options': {'method': 'sgd', 'reg': 2}, 'sim_options': {'min_support': 5, 'user_based': False, 'name': 'msd'}}, {'k': 2, 'bsl_options': {'method': 'als', 'reg': 1}, 'sim_options': {'min_support': 5, 'user_based': False, 'name': 'cosine'}}, {'k': 2, 'bsl_options': {'method': 'als', 'reg': 2}, 'sim_options': {'min_support': 5, 'user_based': False, 'name': 'cosine'}}, {'k': 2, 'bsl_options': {'method': 'sgd', 'reg': 1}, 'sim_options': {'min_support': 5, 'user_based': False, 'name': 'cosine'}}, {'k': 2, 'bsl_options': {'method': 'sgd', 'reg': 2}, 'sim_options': {'min_support': 5, 'user_based': False, 'name': 'cosine'}}, {'k': 3, 'bsl_options': {'method': 'als', 'reg': 1}, 'sim_options': {'min_support': 1, 'user_based': False, 'name': 'msd'}}, {'k': 3, 'bsl_options': {'method': 'als', 'reg': 2}, 'sim_options': {'min_support': 1, 'user_based': False, 'name': 'msd'}}, {'k': 3, 'bsl_options': {'method': 'sgd', 'reg': 1}, 'sim_options': {'min_support': 1, 'user_based': False, 'name': 'msd'}}, {'k': 3, 'bsl_options': {'method': 'sgd', 'reg': 2}, 'sim_options': {'min_support': 1, 'user_based': False, 'name': 'msd'}}, {'k': 3, 'bsl_options': {'method': 'als', 'reg': 1}, 'sim_options': {'min_support': 1, 'user_based': False, 'name': 'cosine'}}, {'k': 3, 'bsl_options': {'method': 'als', 'reg': 2}, 'sim_options': {'min_support': 1, 'user_based': False, 'name': 'cosine'}}, {'k': 3, 'bsl_options': {'method': 'sgd', 'reg': 1}, 'sim_options': {'min_support': 1, 'user_based': False, 'name': 'cosine'}}, {'k': 3, 'bsl_options': {'method': 'sgd', 'reg': 2}, 'sim_options': {'min_support': 1, 'user_based': False, 'name': 'cosine'}}, {'k': 3, 'bsl_options': {'method': 'als', 'reg': 1}, 'sim_options': {'min_support': 5, 'user_based': False, 'name': 'msd'}}, {'k': 3, 'bsl_options': {'method': 'als', 'reg': 2}, 'sim_options': {'min_support': 5, 'user_based': False, 'name': 'msd'}}, {'k': 3, 'bsl_options': {'method': 'sgd', 'reg': 1}, 'sim_options': {'min_support': 5, 'user_based': False, 'name': 'msd'}}, {'k': 3, 'bsl_options': {'method': 'sgd', 'reg': 2}, 'sim_options': {'min_support': 5, 'user_based': False, 'name': 'msd'}}, {'k': 3, 'bsl_options': {'method': 'als', 'reg': 1}, 'sim_options': {'min_support': 5, 'user_based': False, 'name': 'cosine'}}, {'k': 3, 'bsl_options': {'method': 'als', 'reg': 2}, 'sim_options': {'min_support': 5, 'user_based': False, 'name': 'cosine'}}, {'k': 3, 'bsl_options': {'method': 'sgd', 'reg': 1}, 'sim_options': {'min_support': 5, 'user_based': False, 'name': 'cosine'}}, {'k': 3, 'bsl_options': {'method': 'sgd', 'reg': 2}, 'sim_options': {'min_support': 5, 'user_based': False, 'name': 'cosine'}}]\n",
      "------------\n",
      "Parameters combination 1 of 32\n",
      "params:  {'k': 2, 'bsl_options': {'method': 'als', 'reg': 1}, 'sim_options': {'min_support': 1, 'user_based': False, 'name': 'msd'}}\n",
      "Estimating biases using als...\n",
      "Computing the msd similarity matrix...\n",
      "Done computing similarity matrix.\n",
      "Estimating biases using als...\n",
      "Computing the msd similarity matrix...\n",
      "Done computing similarity matrix.\n",
      "Estimating biases using als...\n",
      "Computing the msd similarity matrix...\n",
      "Done computing similarity matrix.\n",
      "------------\n",
      "Mean RMSE: 1.2284\n",
      "------------\n",
      "------------\n",
      "Parameters combination 2 of 32\n",
      "params:  {'k': 2, 'bsl_options': {'method': 'als', 'reg': 2}, 'sim_options': {'min_support': 1, 'user_based': False, 'name': 'msd'}}\n",
      "Estimating biases using als...\n",
      "Computing the msd similarity matrix...\n",
      "Done computing similarity matrix.\n",
      "Estimating biases using als...\n",
      "Computing the msd similarity matrix...\n",
      "Done computing similarity matrix.\n",
      "Estimating biases using als...\n",
      "Computing the msd similarity matrix...\n",
      "Done computing similarity matrix.\n",
      "------------\n",
      "Mean RMSE: 1.2284\n",
      "------------\n",
      "------------\n",
      "Parameters combination 3 of 32\n",
      "params:  {'k': 2, 'bsl_options': {'method': 'sgd', 'reg': 1}, 'sim_options': {'min_support': 1, 'user_based': False, 'name': 'msd'}}\n",
      "Estimating biases using sgd...\n",
      "Computing the msd similarity matrix...\n",
      "Done computing similarity matrix.\n",
      "Estimating biases using sgd...\n",
      "Computing the msd similarity matrix...\n",
      "Done computing similarity matrix.\n",
      "Estimating biases using sgd...\n",
      "Computing the msd similarity matrix...\n",
      "Done computing similarity matrix.\n",
      "------------\n",
      "Mean RMSE: 1.2280\n",
      "------------\n",
      "------------\n",
      "Parameters combination 4 of 32\n",
      "params:  {'k': 2, 'bsl_options': {'method': 'sgd', 'reg': 2}, 'sim_options': {'min_support': 1, 'user_based': False, 'name': 'msd'}}\n",
      "Estimating biases using sgd...\n",
      "Computing the msd similarity matrix...\n",
      "Done computing similarity matrix.\n",
      "Estimating biases using sgd...\n",
      "Computing the msd similarity matrix...\n",
      "Done computing similarity matrix.\n",
      "Estimating biases using sgd...\n",
      "Computing the msd similarity matrix...\n",
      "Done computing similarity matrix.\n",
      "------------\n",
      "Mean RMSE: 1.2281\n",
      "------------\n",
      "------------\n",
      "Parameters combination 5 of 32\n",
      "params:  {'k': 2, 'bsl_options': {'method': 'als', 'reg': 1}, 'sim_options': {'min_support': 1, 'user_based': False, 'name': 'cosine'}}\n",
      "Estimating biases using als...\n",
      "Computing the cosine similarity matrix...\n",
      "Done computing similarity matrix.\n",
      "Estimating biases using als...\n",
      "Computing the cosine similarity matrix...\n",
      "Done computing similarity matrix.\n",
      "Estimating biases using als...\n",
      "Computing the cosine similarity matrix...\n",
      "Done computing similarity matrix.\n",
      "------------\n",
      "Mean RMSE: 1.2259\n",
      "------------\n",
      "------------\n",
      "Parameters combination 6 of 32\n",
      "params:  {'k': 2, 'bsl_options': {'method': 'als', 'reg': 2}, 'sim_options': {'min_support': 1, 'user_based': False, 'name': 'cosine'}}\n",
      "Estimating biases using als...\n",
      "Computing the cosine similarity matrix...\n",
      "Done computing similarity matrix.\n",
      "Estimating biases using als...\n",
      "Computing the cosine similarity matrix...\n",
      "Done computing similarity matrix.\n",
      "Estimating biases using als...\n",
      "Computing the cosine similarity matrix...\n",
      "Done computing similarity matrix.\n",
      "------------\n",
      "Mean RMSE: 1.2259\n",
      "------------\n",
      "------------\n",
      "Parameters combination 7 of 32\n",
      "params:  {'k': 2, 'bsl_options': {'method': 'sgd', 'reg': 1}, 'sim_options': {'min_support': 1, 'user_based': False, 'name': 'cosine'}}\n",
      "Estimating biases using sgd...\n",
      "Computing the cosine similarity matrix...\n",
      "Done computing similarity matrix.\n",
      "Estimating biases using sgd...\n",
      "Computing the cosine similarity matrix...\n",
      "Done computing similarity matrix.\n",
      "Estimating biases using sgd...\n",
      "Computing the cosine similarity matrix...\n",
      "Done computing similarity matrix.\n",
      "------------\n",
      "Mean RMSE: 1.2255\n",
      "------------\n",
      "------------\n",
      "Parameters combination 8 of 32\n",
      "params:  {'k': 2, 'bsl_options': {'method': 'sgd', 'reg': 2}, 'sim_options': {'min_support': 1, 'user_based': False, 'name': 'cosine'}}\n",
      "Estimating biases using sgd...\n",
      "Computing the cosine similarity matrix...\n",
      "Done computing similarity matrix.\n",
      "Estimating biases using sgd...\n",
      "Computing the cosine similarity matrix...\n",
      "Done computing similarity matrix.\n",
      "Estimating biases using sgd...\n",
      "Computing the cosine similarity matrix...\n",
      "Done computing similarity matrix.\n",
      "------------\n",
      "Mean RMSE: 1.2256\n",
      "------------\n",
      "------------\n",
      "Parameters combination 9 of 32\n",
      "params:  {'k': 2, 'bsl_options': {'method': 'als', 'reg': 1}, 'sim_options': {'min_support': 5, 'user_based': False, 'name': 'msd'}}\n",
      "Estimating biases using als...\n",
      "Computing the msd similarity matrix...\n",
      "Done computing similarity matrix.\n",
      "Estimating biases using als...\n",
      "Computing the msd similarity matrix...\n",
      "Done computing similarity matrix.\n",
      "Estimating biases using als...\n",
      "Computing the msd similarity matrix...\n",
      "Done computing similarity matrix.\n",
      "------------\n",
      "Mean RMSE: 1.2282\n",
      "------------\n",
      "------------\n",
      "Parameters combination 10 of 32\n",
      "params:  {'k': 2, 'bsl_options': {'method': 'als', 'reg': 2}, 'sim_options': {'min_support': 5, 'user_based': False, 'name': 'msd'}}\n",
      "Estimating biases using als...\n",
      "Computing the msd similarity matrix...\n",
      "Done computing similarity matrix.\n",
      "Estimating biases using als...\n",
      "Computing the msd similarity matrix...\n",
      "Done computing similarity matrix.\n",
      "Estimating biases using als...\n",
      "Computing the msd similarity matrix...\n",
      "Done computing similarity matrix.\n",
      "------------\n",
      "Mean RMSE: 1.2282\n",
      "------------\n",
      "------------\n",
      "Parameters combination 11 of 32\n",
      "params:  {'k': 2, 'bsl_options': {'method': 'sgd', 'reg': 1}, 'sim_options': {'min_support': 5, 'user_based': False, 'name': 'msd'}}\n",
      "Estimating biases using sgd...\n",
      "Computing the msd similarity matrix...\n",
      "Done computing similarity matrix.\n",
      "Estimating biases using sgd...\n",
      "Computing the msd similarity matrix...\n",
      "Done computing similarity matrix.\n",
      "Estimating biases using sgd...\n",
      "Computing the msd similarity matrix...\n",
      "Done computing similarity matrix.\n",
      "------------\n",
      "Mean RMSE: 1.2278\n",
      "------------\n",
      "------------\n",
      "Parameters combination 12 of 32\n",
      "params:  {'k': 2, 'bsl_options': {'method': 'sgd', 'reg': 2}, 'sim_options': {'min_support': 5, 'user_based': False, 'name': 'msd'}}\n",
      "Estimating biases using sgd...\n",
      "Computing the msd similarity matrix...\n",
      "Done computing similarity matrix.\n",
      "Estimating biases using sgd...\n",
      "Computing the msd similarity matrix...\n",
      "Done computing similarity matrix.\n",
      "Estimating biases using sgd...\n",
      "Computing the msd similarity matrix...\n",
      "Done computing similarity matrix.\n",
      "------------\n",
      "Mean RMSE: 1.2280\n",
      "------------\n",
      "------------\n",
      "Parameters combination 13 of 32\n",
      "params:  {'k': 2, 'bsl_options': {'method': 'als', 'reg': 1}, 'sim_options': {'min_support': 5, 'user_based': False, 'name': 'cosine'}}\n",
      "Estimating biases using als...\n",
      "Computing the cosine similarity matrix...\n",
      "Done computing similarity matrix.\n",
      "Estimating biases using als...\n",
      "Computing the cosine similarity matrix...\n",
      "Done computing similarity matrix.\n",
      "Estimating biases using als...\n",
      "Computing the cosine similarity matrix...\n",
      "Done computing similarity matrix.\n",
      "------------\n",
      "Mean RMSE: 1.2258\n",
      "------------\n",
      "------------\n",
      "Parameters combination 14 of 32\n",
      "params:  {'k': 2, 'bsl_options': {'method': 'als', 'reg': 2}, 'sim_options': {'min_support': 5, 'user_based': False, 'name': 'cosine'}}\n",
      "Estimating biases using als...\n",
      "Computing the cosine similarity matrix...\n",
      "Done computing similarity matrix.\n",
      "Estimating biases using als...\n",
      "Computing the cosine similarity matrix...\n",
      "Done computing similarity matrix.\n",
      "Estimating biases using als...\n",
      "Computing the cosine similarity matrix...\n",
      "Done computing similarity matrix.\n",
      "------------\n",
      "Mean RMSE: 1.2258\n",
      "------------\n",
      "------------\n",
      "Parameters combination 15 of 32\n",
      "params:  {'k': 2, 'bsl_options': {'method': 'sgd', 'reg': 1}, 'sim_options': {'min_support': 5, 'user_based': False, 'name': 'cosine'}}\n",
      "Estimating biases using sgd...\n",
      "Computing the cosine similarity matrix...\n",
      "Done computing similarity matrix.\n",
      "Estimating biases using sgd...\n",
      "Computing the cosine similarity matrix...\n",
      "Done computing similarity matrix.\n",
      "Estimating biases using sgd...\n",
      "Computing the cosine similarity matrix...\n",
      "Done computing similarity matrix.\n",
      "------------\n",
      "Mean RMSE: 1.2254\n",
      "------------\n",
      "------------\n",
      "Parameters combination 16 of 32\n",
      "params:  {'k': 2, 'bsl_options': {'method': 'sgd', 'reg': 2}, 'sim_options': {'min_support': 5, 'user_based': False, 'name': 'cosine'}}\n",
      "Estimating biases using sgd...\n",
      "Computing the cosine similarity matrix...\n",
      "Done computing similarity matrix.\n",
      "Estimating biases using sgd...\n",
      "Computing the cosine similarity matrix...\n",
      "Done computing similarity matrix.\n",
      "Estimating biases using sgd...\n",
      "Computing the cosine similarity matrix...\n",
      "Done computing similarity matrix.\n",
      "------------\n",
      "Mean RMSE: 1.2255\n",
      "------------\n",
      "------------\n",
      "Parameters combination 17 of 32\n",
      "params:  {'k': 3, 'bsl_options': {'method': 'als', 'reg': 1}, 'sim_options': {'min_support': 1, 'user_based': False, 'name': 'msd'}}\n",
      "Estimating biases using als...\n",
      "Computing the msd similarity matrix...\n",
      "Done computing similarity matrix.\n",
      "Estimating biases using als...\n",
      "Computing the msd similarity matrix...\n",
      "Done computing similarity matrix.\n",
      "Estimating biases using als...\n",
      "Computing the msd similarity matrix...\n",
      "Done computing similarity matrix.\n",
      "------------\n",
      "Mean RMSE: 1.1775\n",
      "------------\n",
      "------------\n",
      "Parameters combination 18 of 32\n",
      "params:  {'k': 3, 'bsl_options': {'method': 'als', 'reg': 2}, 'sim_options': {'min_support': 1, 'user_based': False, 'name': 'msd'}}\n",
      "Estimating biases using als...\n",
      "Computing the msd similarity matrix...\n",
      "Done computing similarity matrix.\n",
      "Estimating biases using als...\n",
      "Computing the msd similarity matrix...\n",
      "Done computing similarity matrix.\n",
      "Estimating biases using als...\n",
      "Computing the msd similarity matrix...\n",
      "Done computing similarity matrix.\n",
      "------------\n",
      "Mean RMSE: 1.1775\n",
      "------------\n",
      "------------\n",
      "Parameters combination 19 of 32\n",
      "params:  {'k': 3, 'bsl_options': {'method': 'sgd', 'reg': 1}, 'sim_options': {'min_support': 1, 'user_based': False, 'name': 'msd'}}\n",
      "Estimating biases using sgd...\n",
      "Computing the msd similarity matrix...\n",
      "Done computing similarity matrix.\n",
      "Estimating biases using sgd...\n",
      "Computing the msd similarity matrix...\n",
      "Done computing similarity matrix.\n",
      "Estimating biases using sgd...\n",
      "Computing the msd similarity matrix...\n",
      "Done computing similarity matrix.\n",
      "------------\n",
      "Mean RMSE: 1.1774\n",
      "------------\n",
      "------------\n",
      "Parameters combination 20 of 32\n",
      "params:  {'k': 3, 'bsl_options': {'method': 'sgd', 'reg': 2}, 'sim_options': {'min_support': 1, 'user_based': False, 'name': 'msd'}}\n",
      "Estimating biases using sgd...\n",
      "Computing the msd similarity matrix...\n",
      "Done computing similarity matrix.\n",
      "Estimating biases using sgd...\n",
      "Computing the msd similarity matrix...\n",
      "Done computing similarity matrix.\n",
      "Estimating biases using sgd...\n",
      "Computing the msd similarity matrix...\n",
      "Done computing similarity matrix.\n",
      "------------\n",
      "Mean RMSE: 1.1774\n",
      "------------\n",
      "------------\n",
      "Parameters combination 21 of 32\n",
      "params:  {'k': 3, 'bsl_options': {'method': 'als', 'reg': 1}, 'sim_options': {'min_support': 1, 'user_based': False, 'name': 'cosine'}}\n",
      "Estimating biases using als...\n",
      "Computing the cosine similarity matrix...\n",
      "Done computing similarity matrix.\n",
      "Estimating biases using als...\n",
      "Computing the cosine similarity matrix...\n",
      "Done computing similarity matrix.\n",
      "Estimating biases using als...\n",
      "Computing the cosine similarity matrix...\n",
      "Done computing similarity matrix.\n",
      "------------\n",
      "Mean RMSE: 1.1755\n",
      "------------\n",
      "------------\n",
      "Parameters combination 22 of 32\n",
      "params:  {'k': 3, 'bsl_options': {'method': 'als', 'reg': 2}, 'sim_options': {'min_support': 1, 'user_based': False, 'name': 'cosine'}}\n",
      "Estimating biases using als...\n",
      "Computing the cosine similarity matrix...\n",
      "Done computing similarity matrix.\n",
      "Estimating biases using als...\n",
      "Computing the cosine similarity matrix...\n",
      "Done computing similarity matrix.\n",
      "Estimating biases using als...\n",
      "Computing the cosine similarity matrix...\n",
      "Done computing similarity matrix.\n",
      "------------\n",
      "Mean RMSE: 1.1755\n",
      "------------\n",
      "------------\n",
      "Parameters combination 23 of 32\n",
      "params:  {'k': 3, 'bsl_options': {'method': 'sgd', 'reg': 1}, 'sim_options': {'min_support': 1, 'user_based': False, 'name': 'cosine'}}\n",
      "Estimating biases using sgd...\n",
      "Computing the cosine similarity matrix...\n",
      "Done computing similarity matrix.\n",
      "Estimating biases using sgd...\n",
      "Computing the cosine similarity matrix...\n",
      "Done computing similarity matrix.\n",
      "Estimating biases using sgd...\n",
      "Computing the cosine similarity matrix...\n",
      "Done computing similarity matrix.\n",
      "------------\n",
      "Mean RMSE: 1.1754\n",
      "------------\n",
      "------------\n",
      "Parameters combination 24 of 32\n",
      "params:  {'k': 3, 'bsl_options': {'method': 'sgd', 'reg': 2}, 'sim_options': {'min_support': 1, 'user_based': False, 'name': 'cosine'}}\n",
      "Estimating biases using sgd...\n",
      "Computing the cosine similarity matrix...\n",
      "Done computing similarity matrix.\n",
      "Estimating biases using sgd...\n",
      "Computing the cosine similarity matrix...\n",
      "Done computing similarity matrix.\n",
      "Estimating biases using sgd...\n",
      "Computing the cosine similarity matrix...\n",
      "Done computing similarity matrix.\n",
      "------------\n",
      "Mean RMSE: 1.1755\n",
      "------------\n",
      "------------\n",
      "Parameters combination 25 of 32\n",
      "params:  {'k': 3, 'bsl_options': {'method': 'als', 'reg': 1}, 'sim_options': {'min_support': 5, 'user_based': False, 'name': 'msd'}}\n",
      "Estimating biases using als...\n",
      "Computing the msd similarity matrix...\n",
      "Done computing similarity matrix.\n",
      "Estimating biases using als...\n",
      "Computing the msd similarity matrix...\n",
      "Done computing similarity matrix.\n",
      "Estimating biases using als...\n",
      "Computing the msd similarity matrix...\n",
      "Done computing similarity matrix.\n",
      "------------\n",
      "Mean RMSE: 1.1773\n",
      "------------\n",
      "------------\n",
      "Parameters combination 26 of 32\n",
      "params:  {'k': 3, 'bsl_options': {'method': 'als', 'reg': 2}, 'sim_options': {'min_support': 5, 'user_based': False, 'name': 'msd'}}\n",
      "Estimating biases using als...\n",
      "Computing the msd similarity matrix...\n",
      "Done computing similarity matrix.\n",
      "Estimating biases using als...\n",
      "Computing the msd similarity matrix...\n",
      "Done computing similarity matrix.\n",
      "Estimating biases using als...\n",
      "Computing the msd similarity matrix...\n",
      "Done computing similarity matrix.\n",
      "------------\n",
      "Mean RMSE: 1.1773\n",
      "------------\n",
      "------------\n",
      "Parameters combination 27 of 32\n",
      "params:  {'k': 3, 'bsl_options': {'method': 'sgd', 'reg': 1}, 'sim_options': {'min_support': 5, 'user_based': False, 'name': 'msd'}}\n",
      "Estimating biases using sgd...\n",
      "Computing the msd similarity matrix...\n",
      "Done computing similarity matrix.\n",
      "Estimating biases using sgd...\n",
      "Computing the msd similarity matrix...\n",
      "Done computing similarity matrix.\n",
      "Estimating biases using sgd...\n",
      "Computing the msd similarity matrix...\n",
      "Done computing similarity matrix.\n",
      "------------\n",
      "Mean RMSE: 1.1772\n",
      "------------\n",
      "------------\n",
      "Parameters combination 28 of 32\n",
      "params:  {'k': 3, 'bsl_options': {'method': 'sgd', 'reg': 2}, 'sim_options': {'min_support': 5, 'user_based': False, 'name': 'msd'}}\n",
      "Estimating biases using sgd...\n",
      "Computing the msd similarity matrix...\n",
      "Done computing similarity matrix.\n",
      "Estimating biases using sgd...\n",
      "Computing the msd similarity matrix...\n",
      "Done computing similarity matrix.\n",
      "Estimating biases using sgd...\n",
      "Computing the msd similarity matrix...\n",
      "Done computing similarity matrix.\n",
      "------------\n",
      "Mean RMSE: 1.1773\n",
      "------------\n",
      "------------\n",
      "Parameters combination 29 of 32\n",
      "params:  {'k': 3, 'bsl_options': {'method': 'als', 'reg': 1}, 'sim_options': {'min_support': 5, 'user_based': False, 'name': 'cosine'}}\n",
      "Estimating biases using als...\n",
      "Computing the cosine similarity matrix...\n",
      "Done computing similarity matrix.\n",
      "Estimating biases using als...\n",
      "Computing the cosine similarity matrix...\n",
      "Done computing similarity matrix.\n",
      "Estimating biases using als...\n",
      "Computing the cosine similarity matrix...\n",
      "Done computing similarity matrix.\n",
      "------------\n",
      "Mean RMSE: 1.1755\n",
      "------------\n",
      "------------\n",
      "Parameters combination 30 of 32\n",
      "params:  {'k': 3, 'bsl_options': {'method': 'als', 'reg': 2}, 'sim_options': {'min_support': 5, 'user_based': False, 'name': 'cosine'}}\n",
      "Estimating biases using als...\n",
      "Computing the cosine similarity matrix...\n",
      "Done computing similarity matrix.\n",
      "Estimating biases using als...\n",
      "Computing the cosine similarity matrix...\n",
      "Done computing similarity matrix.\n",
      "Estimating biases using als...\n",
      "Computing the cosine similarity matrix...\n",
      "Done computing similarity matrix.\n",
      "------------\n",
      "Mean RMSE: 1.1755\n",
      "------------\n",
      "------------\n",
      "Parameters combination 31 of 32\n",
      "params:  {'k': 3, 'bsl_options': {'method': 'sgd', 'reg': 1}, 'sim_options': {'min_support': 5, 'user_based': False, 'name': 'cosine'}}\n",
      "Estimating biases using sgd...\n",
      "Computing the cosine similarity matrix...\n",
      "Done computing similarity matrix.\n",
      "Estimating biases using sgd...\n",
      "Computing the cosine similarity matrix...\n",
      "Done computing similarity matrix.\n",
      "Estimating biases using sgd...\n",
      "Computing the cosine similarity matrix...\n",
      "Done computing similarity matrix.\n",
      "------------\n",
      "Mean RMSE: 1.1754\n",
      "------------\n",
      "------------\n",
      "Parameters combination 32 of 32\n",
      "params:  {'k': 3, 'bsl_options': {'method': 'sgd', 'reg': 2}, 'sim_options': {'min_support': 5, 'user_based': False, 'name': 'cosine'}}\n",
      "Estimating biases using sgd...\n",
      "Computing the cosine similarity matrix...\n",
      "Done computing similarity matrix.\n",
      "Estimating biases using sgd...\n",
      "Computing the cosine similarity matrix...\n",
      "Done computing similarity matrix.\n",
      "Estimating biases using sgd...\n",
      "Computing the cosine similarity matrix...\n",
      "Done computing similarity matrix.\n",
      "------------\n",
      "Mean RMSE: 1.1754\n",
      "------------\n"
     ]
    }
   ],
   "source": [
    "# use GridSearch to finetune the hyper parameters for KNNBaseline namely,\n",
    "# 1. epochs(number of iterations of the stochastic gradient descent),\n",
    "# 2. learning rate(lr_all) and \n",
    "# 3. regularization(reg_all)\n",
    "\n",
    "from surprise import GridSearch\n",
    "param_grid = {'bsl_options': {'method': ['als', 'sgd'],\n",
    "                              'reg': [1, 2]},\n",
    "              'k': [2, 3],\n",
    "              'sim_options': {'name': ['msd', 'cosine'],\n",
    "                              'min_support': [1, 5],\n",
    "                              'user_based': [False]}\n",
    "              }\n",
    "grid_search = GridSearch(KNNBaseline, param_grid, measures=['RMSE'])\n",
    "grid_search.evaluate(data)\n"
   ]
  },
  {
   "cell_type": "code",
   "execution_count": 21,
   "metadata": {
    "collapsed": false
   },
   "outputs": [
    {
     "name": "stdout",
     "output_type": "stream",
     "text": [
      "1.17540143324\n"
     ]
    }
   ],
   "source": [
    "# the best RMSE performance for KNNBaseline\n",
    "print(grid_search.best_score['RMSE'])"
   ]
  },
  {
   "cell_type": "code",
   "execution_count": 22,
   "metadata": {
    "collapsed": false
   },
   "outputs": [
    {
     "name": "stdout",
     "output_type": "stream",
     "text": [
      "{'k': 3, 'bsl_options': {'method': 'sgd', 'reg': 1}, 'sim_options': {'min_support': 5, 'user_based': False, 'name': 'cosine'}}\n"
     ]
    }
   ],
   "source": [
    "# the best RMSE performance parameters for KNNBaseline\n",
    "print(grid_search.best_params['RMSE'])\n"
   ]
  },
  {
   "cell_type": "code",
   "execution_count": 32,
   "metadata": {
    "collapsed": false
   },
   "outputs": [
    {
     "name": "stdout",
     "output_type": "stream",
     "text": [
      "Estimating biases using sgd...\n",
      "Computing the msd similarity matrix...\n",
      "Done computing similarity matrix.\n"
     ]
    }
   ],
   "source": [
    "# apply the above parameters to the training dataset for KNNBaseline\n",
    "\n",
    "data = Dataset.load_from_df(train[['CustomerId', 'Movie_Id', 'Rating']], reader) #[:150000]\n",
    "data.split(n_folds=3)\n",
    "\n",
    "# applied the best hyper parameters for KNNBaseline found above\n",
    "bsl_options= {'method': 'sgd', 'reg': 1}\n",
    "sim_options= {'cosine': 'msd', 'user_based': False, 'min_support': 5}\n",
    "k= 3\n",
    "\n",
    "algo1 = KNNBaseline(sim_options=sim_options, bsl_options=bsl_options, k=k)\n",
    "\n",
    "trainset = data.build_full_trainset()\n",
    "algo1.train(trainset)"
   ]
  },
  {
   "cell_type": "code",
   "execution_count": 33,
   "metadata": {
    "collapsed": false
   },
   "outputs": [
    {
     "name": "stdout",
     "output_type": "stream",
     "text": [
      "user: 30878      item: 1          r_ui = 4.00   est = 3.60   {'was_impossible': False}\n",
      "3.60441720391\n"
     ]
    }
   ],
   "source": [
    "#predict for a random user id with test set of TRAINING data\n",
    "uid = str(30878)  #  user id  \n",
    "mid = str(1)  #  movie id  \n",
    "# get a prediction for specific users and items.\n",
    "pred1 = algo1.predict(uid, mid, r_ui=4, verbose=True)\n",
    "print(pred1.est)"
   ]
  },
  {
   "cell_type": "code",
   "execution_count": 34,
   "metadata": {
    "collapsed": false
   },
   "outputs": [
    {
     "name": "stdout",
     "output_type": "stream",
     "text": [
      "[ 3.614  3.636  3.025 ...,  3.691  3.952  2.971]\n"
     ]
    }
   ],
   "source": [
    "# predict each of the values for the test split of the training dataset\n",
    "y_pred = list()\n",
    "#np.empty([y_test.shape[0],])\n",
    "np.set_printoptions(precision=3)\n",
    "for index,row in X_test.iterrows():\n",
    "    pred_val= algo1.predict(row['CustomerId'], row['Movie_Id'], verbose=False)\n",
    "    y_pred.append(pred_val.est)# = np.append(y_pred, [float()])\n",
    "\n",
    "\n",
    "y_pred_np = np.array(y_pred)\n",
    "print(y_pred_np)\n"
   ]
  },
  {
   "cell_type": "code",
   "execution_count": 36,
   "metadata": {
    "collapsed": false,
    "scrolled": true
   },
   "outputs": [
    {
     "name": "stdout",
     "output_type": "stream",
     "text": [
      "1.1755098172\n"
     ]
    }
   ],
   "source": [
    "# Training error in RMSE format\n",
    "print (np.sqrt(mean_squared_error(y_test, y_pred))) \n"
   ]
  },
  {
   "cell_type": "code",
   "execution_count": 37,
   "metadata": {
    "collapsed": false
   },
   "outputs": [],
   "source": [
    "#convert the probe dataframe to features and labels dataframe\n",
    "X_probe_df = probe_df.loc[:, probe_df.columns != 'Rating']\n",
    "y_probe_df = probe_df['Rating']\n"
   ]
  },
  {
   "cell_type": "code",
   "execution_count": 38,
   "metadata": {
    "collapsed": false
   },
   "outputs": [
    {
     "data": {
      "text/plain": [
       "(288, 2)"
      ]
     },
     "execution_count": 38,
     "metadata": {},
     "output_type": "execute_result"
    }
   ],
   "source": [
    "X_probe_df.shape"
   ]
  },
  {
   "cell_type": "code",
   "execution_count": 39,
   "metadata": {
    "collapsed": false
   },
   "outputs": [],
   "source": [
    "# predict each of the ratings for the probe dataset\n",
    "y_probe_pred = list() #np.empty([X_probe_df.shape[0],])\n",
    "\n",
    "\n",
    "for index,row in X_probe_df.iterrows():\n",
    "    probe_pred_val= algo1.predict(row['CustomerId'], row['Movie_Id'], verbose=False)\n",
    "    y_probe_pred.append(probe_pred_val.est)\n",
    "    y_probe_pred_np=np.array(y_probe_pred)\n",
    "\n",
    "#print(y_probe_pred_np)"
   ]
  },
  {
   "cell_type": "code",
   "execution_count": 40,
   "metadata": {
    "collapsed": false
   },
   "outputs": [
    {
     "name": "stdout",
     "output_type": "stream",
     "text": [
      "user: 30878      item: 1          r_ui = 4.00   est = 3.60   {'was_impossible': False}\n",
      "3.60441720391\n"
     ]
    }
   ],
   "source": [
    "#predict for a random user id with probe data\n",
    "uid = str(30878)  # raw user id \n",
    "mid = str(1)  # raw movie id \n",
    "\n",
    "# get a prediction for specific user and movie\n",
    "#for (uid, mid) in X_test['CustomerId', 'MovieId']:\n",
    "probe_pred = algo1.predict(uid, mid, r_ui=4, verbose=True) #r_ui is the actual rating\n",
    "print(probe_pred.est)"
   ]
  },
  {
   "cell_type": "code",
   "execution_count": 41,
   "metadata": {
    "collapsed": false
   },
   "outputs": [
    {
     "name": "stdout",
     "output_type": "stream",
     "text": [
      "0.848257001023\n"
     ]
    }
   ],
   "source": [
    "# Test(PROBE) error in RMSE format\n",
    "print (np.sqrt(mean_squared_error(y_probe_df, y_probe_pred))) "
   ]
  },
  {
   "cell_type": "code",
   "execution_count": null,
   "metadata": {
    "collapsed": true
   },
   "outputs": [],
   "source": []
  }
 ],
 "metadata": {
  "anaconda-cloud": {},
  "kernelspec": {
   "display_name": "Python [default]",
   "language": "python",
   "name": "python3"
  },
  "language_info": {
   "codemirror_mode": {
    "name": "ipython",
    "version": 3
   },
   "file_extension": ".py",
   "mimetype": "text/x-python",
   "name": "python",
   "nbconvert_exporter": "python",
   "pygments_lexer": "ipython3",
   "version": "3.5.2"
  }
 },
 "nbformat": 4,
 "nbformat_minor": 1
}
