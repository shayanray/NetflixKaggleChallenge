{
 "cells": [
  {
   "cell_type": "code",
   "execution_count": 1,
   "metadata": {
    "collapsed": false
   },
   "outputs": [],
   "source": [
    "# Netflix Prediction by Shayan Ray, Tan Le, Ce Wu\n",
    "# All necessary imports placed here\n",
    "\n",
    "import numpy as np # linear algebra\n",
    "import pandas as pd # data processing, CSV file I/O (e.g. pd.read_csv)\n",
    "import math\n",
    "import re\n",
    "from scipy.sparse import csr_matrix\n",
    "import matplotlib.pyplot as plt\n",
    "import seaborn as sns\n",
    "from surprise import Reader, Dataset, KNNBaseline, evaluate\n",
    "from sklearn.model_selection import train_test_split\n",
    "from sklearn.linear_model import LogisticRegression\n",
    "from sklearn.linear_model import LinearRegression\n",
    "from sklearn.metrics import accuracy_score\n",
    "sns.set_style(\"darkgrid\")\n",
    "from sklearn.metrics import mean_squared_error\n",
    "from sklearn.metrics import mean_absolute_error\n",
    "from surprise import KNNBaseline\n"
   ]
  },
  {
   "cell_type": "code",
   "execution_count": 2,
   "metadata": {
    "collapsed": true
   },
   "outputs": [],
   "source": [
    "# parameters/variables to set\n",
    "\n",
    "baseDataPath='/users/tanle/A1/data/'\n",
    "sampleFraction = 0.1 # 10% of the data\n",
    "sampleSize=10000  # used only to get started or for a quick code run"
   ]
  },
  {
   "cell_type": "code",
   "execution_count": 3,
   "metadata": {
    "collapsed": false
   },
   "outputs": [
    {
     "data": {
      "text/plain": [
       "(100498277, 2)"
      ]
     },
     "execution_count": 3,
     "metadata": {},
     "output_type": "execute_result"
    }
   ],
   "source": [
    "# load the training dataset\n",
    "df1 = pd.read_csv(baseDataPath + 'combined_data_1.txt', header = None, names = ['CustomerId', 'Rating'], usecols = [0,1])\n",
    "df2 = pd.read_csv(baseDataPath + 'combined_data_2.txt', header = None, names = ['CustomerId', 'Rating'], usecols = [0,1])\n",
    "df3 = pd.read_csv(baseDataPath + 'combined_data_3.txt', header = None, names = ['CustomerId', 'Rating'], usecols = [0,1])\n",
    "df4 = pd.read_csv(baseDataPath + 'combined_data_4.txt', header = None, names = ['CustomerId', 'Rating'], usecols = [0,1])\n",
    "org_df = df1\n",
    "org_df = org_df.append(df2)\n",
    "org_df = org_df.append(df3)\n",
    "org_df = org_df.append(df4)\n",
    "org_df.shape"
   ]
  },
  {
   "cell_type": "code",
   "execution_count": 4,
   "metadata": {
    "collapsed": false
   },
   "outputs": [],
   "source": [
    "#load the probe dataset\n",
    "probe_df = pd.read_csv(baseDataPath +'/probe.txt', header = None, names = ['CustomerId'], usecols = [0])"
   ]
  },
  {
   "cell_type": "code",
   "execution_count": 5,
   "metadata": {
    "collapsed": true
   },
   "outputs": [],
   "source": [
    "#load the qualifying dataset\n",
    "#qualify_df=pd.read_csv(baseDataPath +'qualifying.txt', header = None, names = ['CustomerId'], usecols = [0])"
   ]
  },
  {
   "cell_type": "code",
   "execution_count": 6,
   "metadata": {
    "collapsed": false
   },
   "outputs": [
    {
     "data": {
      "text/plain": [
       "(100498277, 2)"
      ]
     },
     "execution_count": 6,
     "metadata": {},
     "output_type": "execute_result"
    }
   ],
   "source": [
    "#work with samples for faster run-time\n",
    "#org_df = org_df.iloc[0:sampleSize,:]\n",
    "#org_df = org_df.sample(frac=sampleFraction, replace=True)\n",
    "#probe_df = probe_df.iloc[0:sampleSize, :]\n",
    "#qualify_df = qualify_df.iloc[0:sampleSize, :]\n",
    "org_df.shape"
   ]
  },
  {
   "cell_type": "code",
   "execution_count": null,
   "metadata": {
    "collapsed": false
   },
   "outputs": [
    {
     "data": {
      "text/plain": [
       "(1425333, 1)"
      ]
     },
     "execution_count": 7,
     "metadata": {},
     "output_type": "execute_result"
    }
   ],
   "source": [
    "# check for successful data load comment out as appropriate\n",
    "probe_df.shape"
   ]
  },
  {
   "cell_type": "code",
   "execution_count": null,
   "metadata": {
    "collapsed": false
   },
   "outputs": [],
   "source": [
    "# store all movies from original dataset in np array\n",
    "movie_np = []\n",
    "movie_id = 0\n",
    "for index,row in org_df.iterrows():\n",
    "    if row['CustomerId'][-1] == ':' :\n",
    "        movie_id = row['CustomerId'][:-1]\n",
    "    else:\n",
    "        movie_np.append(movie_id)\n",
    "print(len(movie_np))"
   ]
  },
  {
   "cell_type": "code",
   "execution_count": null,
   "metadata": {
    "collapsed": false
   },
   "outputs": [],
   "source": [
    "# remove those Movie ID rows from the original dataset\n",
    "org_df = org_df[pd.notnull(org_df['Rating'])]\n",
    "org_df.shape\n",
    "movie_np = np.array(movie_np)\n",
    "org_df['Movie_Id'] = movie_np.astype(int)\n",
    "org_df['CustomerId'] = org_df['CustomerId'].astype(int)"
   ]
  },
  {
   "cell_type": "code",
   "execution_count": null,
   "metadata": {
    "collapsed": false
   },
   "outputs": [],
   "source": [
    "# check the transformed output - first few values\n",
    "org_df.shape"
   ]
  },
  {
   "cell_type": "code",
   "execution_count": null,
   "metadata": {
    "collapsed": false
   },
   "outputs": [],
   "source": [
    "# store all movies in probe dataframe in np array\n",
    "pmovie_np = []\n",
    "pmovie_id = 0\n",
    "probe_movies = probe_df[probe_df['CustomerId'].str.contains(\":\")] #IDs that contain ':'\n",
    "for index,row in probe_df.iterrows():\n",
    "    if row['CustomerId'][-1] == ':' :\n",
    "        \n",
    "        pmovie_id = row['CustomerId'][:-1]\n",
    "       \n",
    "    else:\n",
    "        pmovie_np.append(pmovie_id)\n",
    "print(len(pmovie_np))"
   ]
  },
  {
   "cell_type": "code",
   "execution_count": null,
   "metadata": {
    "collapsed": false
   },
   "outputs": [],
   "source": [
    "# remove those Movie ID rows and add it as a column to probe DF\n",
    "probe_df = probe_df[~probe_df['CustomerId'].str.contains(\":\")] #IDs that dont contain ':'\n",
    "\n",
    "\n",
    "pmovie_np = np.array(pmovie_np)\n",
    "probe_df['Movie_Id'] = pmovie_np.astype(int)\n",
    "probe_df['CustomerId'] = probe_df['CustomerId'].astype(int)\n",
    "probe_df.shape\n"
   ]
  },
  {
   "cell_type": "code",
   "execution_count": null,
   "metadata": {
    "collapsed": false
   },
   "outputs": [],
   "source": [
    "#clean probe df and add available ratings from training data\n",
    "probe_df = pd.merge(probe_df, org_df, on=['CustomerId','Movie_Id'])\n",
    "probe_df.head()"
   ]
  },
  {
   "cell_type": "code",
   "execution_count": null,
   "metadata": {
    "collapsed": false
   },
   "outputs": [],
   "source": [
    "# remove probe data from orig data\n",
    "org_df = pd.merge(org_df, probe_df,how='left',  on=['CustomerId','Movie_Id', 'Rating'])\n",
    "org_df.head()"
   ]
  },
  {
   "cell_type": "code",
   "execution_count": null,
   "metadata": {
    "collapsed": true
   },
   "outputs": [],
   "source": [
    "# split the data in training and testing data during training (70% training, 30% testing)\n",
    "train, test = train_test_split(org_df, random_state=42, test_size=0.3)"
   ]
  },
  {
   "cell_type": "code",
   "execution_count": null,
   "metadata": {
    "collapsed": false
   },
   "outputs": [],
   "source": [
    "test.shape"
   ]
  },
  {
   "cell_type": "code",
   "execution_count": null,
   "metadata": {
    "collapsed": true
   },
   "outputs": [],
   "source": [
    "# Remove the label -Rating from the train and test features and labels respectively (X_train, y_train, X_test, y_test \n",
    "X_test = test.loc[:, train.columns != 'Rating']\n",
    "y_test = test['Rating']\n",
    "X_train = train.loc[:, train.columns != 'Rating']\n",
    "y_train = train['Rating']"
   ]
  },
  {
   "cell_type": "code",
   "execution_count": null,
   "metadata": {
    "collapsed": false
   },
   "outputs": [],
   "source": [
    "#sample df for grid evaluation\n",
    "#smpl_df = org_df.iloc[0:sampleSize,:]\n",
    "#org_df = org_df.iloc[0:sampleSize,:]\n",
    "\n",
    "#smpl_df = smpl_df1\n",
    "#smpl_df.shape\n",
    "#smpl_df.head()\n",
    "\n"
   ]
  },
  {
   "cell_type": "code",
   "execution_count": null,
   "metadata": {
    "collapsed": false
   },
   "outputs": [],
   "source": [
    "# evaluating KNNBaseline\n",
    "from surprise import Reader, Dataset, KNNBaseline, evaluate\n",
    "reader = Reader(rating_scale=(1, 5))\n",
    "\n",
    "#load data for evaluation\n",
    "data = Dataset.load_from_df(org_df[['CustomerId', 'Movie_Id', 'Rating']], reader) # if sampling, [:sampleSize]\n",
    "data.split(n_folds=3)\n",
    "\n",
    "knn = KNNBaseline()\n",
    "\n",
    "#evaluate(KNNBaseline, data, measures=['RMSE', 'MAE'])"
   ]
  },
  {
   "cell_type": "code",
   "execution_count": null,
   "metadata": {
    "collapsed": false
   },
   "outputs": [],
   "source": [
    "# use GridSearch to finetune the hyper parameters for KNNBaseline namely,\n",
    "# 1. epochs(number of iterations of the stochastic gradient descent),\n",
    "# 2. learning rate(lr_all) and \n",
    "# 3. regularization(reg_all)\n",
    "\n",
    "#from surprise import GridSearch\n",
    "#param_grid = {'bsl_options': {'method': ['als', 'sgd'],\n",
    "#                              'reg': [1, 2]},\n",
    "#              'k': [2, 3],\n",
    "#              'sim_options': {'name': ['msd', 'cosine'],\n",
    "#                              'min_support': [1, 5],\n",
    "#                              'user_based': [False]}\n",
    "#              }\n",
    "#grid_search = GridSearch(KNNBaseline, param_grid, measures=['RMSE'])\n",
    "#grid_search.evaluate(data)\n"
   ]
  },
  {
   "cell_type": "code",
   "execution_count": null,
   "metadata": {
    "collapsed": false
   },
   "outputs": [],
   "source": [
    "# the best RMSE performance for KNNBaseline\n",
    "#print(grid_search.best_score['RMSE'])"
   ]
  },
  {
   "cell_type": "code",
   "execution_count": null,
   "metadata": {
    "collapsed": false
   },
   "outputs": [],
   "source": [
    "# the best RMSE performance parameters for KNNBaseline\n",
    "#print(grid_search.best_params['RMSE'])\n"
   ]
  },
  {
   "cell_type": "code",
   "execution_count": null,
   "metadata": {
    "collapsed": false
   },
   "outputs": [],
   "source": [
    "# apply the above parameters to the training dataset for KNNBaseline\n",
    "\n",
    "data = Dataset.load_from_df(train[['CustomerId', 'Movie_Id', 'Rating']], reader) #[:150000]\n",
    "data.split(n_folds=3)\n",
    "\n",
    "# applied the best hyper parameters for KNNBaseline found above\n",
    "bsl_options= {'method': 'als', 'reg': 1}\n",
    "sim_options= {'name': 'cosine', 'user_based': False, 'min_support': 1}\n",
    "k= 3\n",
    "\n",
    "algo1 = KNNBaseline(sim_options=sim_options, bsl_options=bsl_options, k=k)\n",
    "\n",
    "trainset = data.build_full_trainset()\n",
    "algo1.train(trainset)"
   ]
  },
  {
   "cell_type": "code",
   "execution_count": null,
   "metadata": {
    "collapsed": false
   },
   "outputs": [],
   "source": [
    "#predict for a random user id with test set of TRAINING data\n",
    "uid = str(30878)  #  user id  \n",
    "mid = str(1)  #  movie id  \n",
    "# get a prediction for specific users and items.\n",
    "pred1 = algo1.predict(uid, mid, r_ui=4, verbose=True)\n",
    "print(pred1.est)"
   ]
  },
  {
   "cell_type": "code",
   "execution_count": null,
   "metadata": {
    "collapsed": false
   },
   "outputs": [],
   "source": [
    "# predict each of the values for the test split of the training dataset\n",
    "y_pred = list()\n",
    "#np.empty([y_test.shape[0],])\n",
    "np.set_printoptions(precision=3)\n",
    "for index,row in X_test.iterrows():\n",
    "    pred_val= algo1.predict(row['CustomerId'], row['Movie_Id'], verbose=False)\n",
    "    y_pred.append(pred_val.est)# = np.append(y_pred, [float()])\n",
    "\n",
    "\n",
    "y_pred_np = np.array(y_pred)\n",
    "print(y_pred_np)\n"
   ]
  },
  {
   "cell_type": "code",
   "execution_count": null,
   "metadata": {
    "collapsed": false,
    "scrolled": true
   },
   "outputs": [],
   "source": [
    "# Training error in RMSE format\n",
    "print (np.sqrt(mean_squared_error(y_test, y_pred))) \n"
   ]
  },
  {
   "cell_type": "code",
   "execution_count": null,
   "metadata": {
    "collapsed": false
   },
   "outputs": [],
   "source": [
    "#convert the probe dataframe to features and labels dataframe\n",
    "X_probe_df = probe_df.loc[:, probe_df.columns != 'Rating']\n",
    "y_probe_df = probe_df['Rating']\n"
   ]
  },
  {
   "cell_type": "code",
   "execution_count": null,
   "metadata": {
    "collapsed": false
   },
   "outputs": [],
   "source": [
    "X_probe_df.shape"
   ]
  },
  {
   "cell_type": "code",
   "execution_count": null,
   "metadata": {
    "collapsed": false
   },
   "outputs": [],
   "source": [
    "# predict each of the ratings for the probe dataset\n",
    "y_probe_pred = list() #np.empty([X_probe_df.shape[0],])\n",
    "\n",
    "\n",
    "for index,row in X_probe_df.iterrows():\n",
    "    probe_pred_val= algo1.predict(row['CustomerId'], row['Movie_Id'], verbose=False)\n",
    "    y_probe_pred.append(probe_pred_val.est)\n",
    "    y_probe_pred_np=np.array(y_probe_pred)\n",
    "\n",
    "#print(y_probe_pred_np)"
   ]
  },
  {
   "cell_type": "code",
   "execution_count": null,
   "metadata": {
    "collapsed": false
   },
   "outputs": [],
   "source": [
    "#predict for a random user id with probe data\n",
    "uid = str(30878)  # raw user id \n",
    "mid = str(1)  # raw movie id \n",
    "\n",
    "# get a prediction for specific user and movie\n",
    "#for (uid, mid) in X_test['CustomerId', 'MovieId']:\n",
    "probe_pred = algo1.predict(uid, mid, r_ui=4, verbose=True) #r_ui is the actual rating\n",
    "print(probe_pred.est)"
   ]
  },
  {
   "cell_type": "code",
   "execution_count": null,
   "metadata": {
    "collapsed": false
   },
   "outputs": [],
   "source": [
    "# Test(PROBE) error in RMSE format\n",
    "print (np.sqrt(mean_squared_error(y_probe_df, y_probe_pred))) "
   ]
  },
  {
   "cell_type": "code",
   "execution_count": null,
   "metadata": {
    "collapsed": true
   },
   "outputs": [],
   "source": []
  }
 ],
 "metadata": {
  "anaconda-cloud": {},
  "kernelspec": {
   "display_name": "Python [default]",
   "language": "python",
   "name": "python3"
  },
  "language_info": {
   "codemirror_mode": {
    "name": "ipython",
    "version": 3
   },
   "file_extension": ".py",
   "mimetype": "text/x-python",
   "name": "python",
   "nbconvert_exporter": "python",
   "pygments_lexer": "ipython3",
   "version": "3.5.2"
  }
 },
 "nbformat": 4,
 "nbformat_minor": 1
}
