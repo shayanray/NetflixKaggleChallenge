{
 "cells": [
  {
   "cell_type": "code",
   "execution_count": 1,
   "metadata": {
    "collapsed": false
   },
   "outputs": [],
   "source": [
    "# Netflix Prediction by Shayan Ray, Tan Le, Ce Wu\n",
    "# All necessary imports placed here\n",
    "\n",
    "import numpy as np # linear algebra\n",
    "import pandas as pd # data processing, CSV file I/O (e.g. pd.read_csv)\n",
    "import math\n",
    "import re\n",
    "from scipy.sparse import csr_matrix\n",
    "import matplotlib.pyplot as plt\n",
    "import seaborn as sns\n",
    "from surprise import Reader, Dataset, SVD, evaluate\n",
    "from sklearn.model_selection import train_test_split\n",
    "from sklearn.linear_model import LogisticRegression\n",
    "from sklearn.linear_model import LinearRegression\n",
    "from sklearn.metrics import accuracy_score\n",
    "sns.set_style(\"darkgrid\")\n",
    "from sklearn.metrics import mean_squared_error\n",
    "from sklearn.metrics import mean_absolute_error\n",
    "from surprise import SVDpp\n"
   ]
  },
  {
   "cell_type": "code",
   "execution_count": 2,
   "metadata": {
    "collapsed": true
   },
   "outputs": [],
   "source": [
    "# parameters/variables to set\n",
    "\n",
    "baseDataPath='/users/tanle/A1/data/'\n",
    "sampleFraction = 0.02 # 2% of the data\n",
    "sampleSize=400000  # used only to get started or for a quick code run"
   ]
  },
  {
   "cell_type": "code",
   "execution_count": 3,
   "metadata": {
    "collapsed": false
   },
   "outputs": [
    {
     "data": {
      "text/plain": [
       "(100498277, 2)"
      ]
     },
     "execution_count": 3,
     "metadata": {},
     "output_type": "execute_result"
    }
   ],
   "source": [
    "# load the training dataset\n",
    "df1 = pd.read_csv(baseDataPath + 'combined_data_1.txt', header = None, names = ['CustomerId', 'Rating'], usecols = [0,1])\n",
    "df2 = pd.read_csv(baseDataPath + 'combined_data_2.txt', header = None, names = ['CustomerId', 'Rating'], usecols = [0,1])\n",
    "df3 = pd.read_csv(baseDataPath + 'combined_data_3.txt', header = None, names = ['CustomerId', 'Rating'], usecols = [0,1])\n",
    "df4 = pd.read_csv(baseDataPath + 'combined_data_4.txt', header = None, names = ['CustomerId', 'Rating'], usecols = [0,1])\n",
    "org_df = df1\n",
    "org_df = org_df.append(df2)\n",
    "org_df = org_df.append(df3)\n",
    "org_df = org_df.append(df4)\n",
    "org_df.shape"
   ]
  },
  {
   "cell_type": "code",
   "execution_count": 4,
   "metadata": {
    "collapsed": false
   },
   "outputs": [],
   "source": [
    "#load the probe dataset\n",
    "probe_df = pd.read_csv(baseDataPath +'/probe.txt', header = None, names = ['CustomerId'], usecols = [0])"
   ]
  },
  {
   "cell_type": "code",
   "execution_count": 5,
   "metadata": {
    "collapsed": true
   },
   "outputs": [],
   "source": [
    "#load the qualifying dataset\n",
    "#qualify_df=pd.read_csv(baseDataPath +'qualifying.txt', header = None, names = ['CustomerId'], usecols = [0])"
   ]
  },
  {
   "cell_type": "code",
   "execution_count": 6,
   "metadata": {
    "collapsed": false
   },
   "outputs": [
    {
     "data": {
      "text/plain": [
       "(2009966, 2)"
      ]
     },
     "execution_count": 6,
     "metadata": {},
     "output_type": "execute_result"
    }
   ],
   "source": [
    "#work with samples for faster run-time\n",
    "#org_df = org_df.iloc[0:sampleSize,:]\n",
    "org_df = org_df.sample(frac=sampleFraction, replace=True)\n",
    "#probe_df = probe_df.iloc[0:sampleSize, :]\n",
    "#qualify_df = qualify_df.iloc[0:sampleSize, :]\n",
    "org_df.shape"
   ]
  },
  {
   "cell_type": "code",
   "execution_count": 7,
   "metadata": {
    "collapsed": false
   },
   "outputs": [
    {
     "data": {
      "text/plain": [
       "(1425333, 1)"
      ]
     },
     "execution_count": 7,
     "metadata": {},
     "output_type": "execute_result"
    }
   ],
   "source": [
    "# check for successful data load comment out as appropriate\n",
    "probe_df.shape"
   ]
  },
  {
   "cell_type": "code",
   "execution_count": 8,
   "metadata": {
    "collapsed": false
   },
   "outputs": [
    {
     "name": "stdout",
     "output_type": "stream",
     "text": [
      "2009597\n"
     ]
    }
   ],
   "source": [
    "# store all movies in original dataframe np array\n",
    "movie_np = []\n",
    "movie_id = 0\n",
    "for index,row in org_df.iterrows():\n",
    "    if row['CustomerId'][-1] == ':' :\n",
    "        movie_id = row['CustomerId'][:-1]\n",
    "    else:\n",
    "        movie_np.append(movie_id)\n",
    "print(len(movie_np))\n"
   ]
  },
  {
   "cell_type": "code",
   "execution_count": 9,
   "metadata": {
    "collapsed": false
   },
   "outputs": [],
   "source": [
    "# remove those Movie ID rows from the original dataset\n",
    "org_df = org_df[pd.notnull(org_df['Rating'])]\n",
    "org_df.shape\n",
    "movie_np = np.array(movie_np)\n",
    "org_df['Movie_Id'] = movie_np.astype(int)\n",
    "org_df['CustomerId'] = org_df['CustomerId'].astype(int)"
   ]
  },
  {
   "cell_type": "code",
   "execution_count": 10,
   "metadata": {
    "collapsed": false
   },
   "outputs": [
    {
     "data": {
      "text/plain": [
       "(2009597, 3)"
      ]
     },
     "execution_count": 10,
     "metadata": {},
     "output_type": "execute_result"
    }
   ],
   "source": [
    "# check the transformed output - first few values\n",
    "org_df.shape"
   ]
  },
  {
   "cell_type": "code",
   "execution_count": 11,
   "metadata": {
    "collapsed": false
   },
   "outputs": [
    {
     "name": "stdout",
     "output_type": "stream",
     "text": [
      "1408395\n"
     ]
    }
   ],
   "source": [
    "# store all movies in probe dataframe in np array\n",
    "pmovie_np = []\n",
    "pmovie_id = 0\n",
    "probe_movies = probe_df[probe_df['CustomerId'].str.contains(\":\")] #IDs that contain ':'\n",
    "for index,row in probe_df.iterrows():\n",
    "    if row['CustomerId'][-1] == ':' :\n",
    "        \n",
    "        pmovie_id = row['CustomerId'][:-1]\n",
    "       \n",
    "    else:\n",
    "        pmovie_np.append(pmovie_id)\n",
    "print(len(pmovie_np))"
   ]
  },
  {
   "cell_type": "code",
   "execution_count": 12,
   "metadata": {
    "collapsed": false
   },
   "outputs": [
    {
     "data": {
      "text/plain": [
       "(1408395, 2)"
      ]
     },
     "execution_count": 12,
     "metadata": {},
     "output_type": "execute_result"
    }
   ],
   "source": [
    "# remove those Movie ID rows and add it as a column to probe DF\n",
    "probe_df = probe_df[~probe_df['CustomerId'].str.contains(\":\")] #IDs that dont contain ':'\n",
    "\n",
    "\n",
    "pmovie_np = np.array(pmovie_np)\n",
    "probe_df['Movie_Id'] = pmovie_np.astype(int)\n",
    "probe_df['CustomerId'] = probe_df['CustomerId'].astype(int)\n",
    "probe_df.shape\n"
   ]
  },
  {
   "cell_type": "code",
   "execution_count": 13,
   "metadata": {
    "collapsed": false
   },
   "outputs": [
    {
     "data": {
      "text/html": [
       "<div>\n",
       "<table border=\"1\" class=\"dataframe\">\n",
       "  <thead>\n",
       "    <tr style=\"text-align: right;\">\n",
       "      <th></th>\n",
       "      <th>CustomerId</th>\n",
       "      <th>Movie_Id</th>\n",
       "      <th>Rating</th>\n",
       "    </tr>\n",
       "  </thead>\n",
       "  <tbody>\n",
       "    <tr>\n",
       "      <th>0</th>\n",
       "      <td>440949</td>\n",
       "      <td>10036</td>\n",
       "      <td>5.0</td>\n",
       "    </tr>\n",
       "    <tr>\n",
       "      <th>1</th>\n",
       "      <td>1815129</td>\n",
       "      <td>10036</td>\n",
       "      <td>4.0</td>\n",
       "    </tr>\n",
       "    <tr>\n",
       "      <th>2</th>\n",
       "      <td>2090999</td>\n",
       "      <td>10036</td>\n",
       "      <td>5.0</td>\n",
       "    </tr>\n",
       "    <tr>\n",
       "      <th>3</th>\n",
       "      <td>1752442</td>\n",
       "      <td>10036</td>\n",
       "      <td>1.0</td>\n",
       "    </tr>\n",
       "    <tr>\n",
       "      <th>4</th>\n",
       "      <td>2206144</td>\n",
       "      <td>10042</td>\n",
       "      <td>3.0</td>\n",
       "    </tr>\n",
       "  </tbody>\n",
       "</table>\n",
       "</div>"
      ],
      "text/plain": [
       "   CustomerId  Movie_Id  Rating\n",
       "0      440949     10036     5.0\n",
       "1     1815129     10036     4.0\n",
       "2     2090999     10036     5.0\n",
       "3     1752442     10036     1.0\n",
       "4     2206144     10042     3.0"
      ]
     },
     "execution_count": 13,
     "metadata": {},
     "output_type": "execute_result"
    }
   ],
   "source": [
    "#clean probe df and add available ratings from training data\n",
    "probe_df = pd.merge(probe_df, org_df, on=['CustomerId','Movie_Id'])\n",
    "probe_df.head()"
   ]
  },
  {
   "cell_type": "code",
   "execution_count": 14,
   "metadata": {
    "collapsed": false
   },
   "outputs": [
    {
     "data": {
      "text/html": [
       "<div>\n",
       "<table border=\"1\" class=\"dataframe\">\n",
       "  <thead>\n",
       "    <tr style=\"text-align: right;\">\n",
       "      <th></th>\n",
       "      <th>CustomerId</th>\n",
       "      <th>Rating</th>\n",
       "      <th>Movie_Id</th>\n",
       "    </tr>\n",
       "  </thead>\n",
       "  <tbody>\n",
       "    <tr>\n",
       "      <th>0</th>\n",
       "      <td>1750396</td>\n",
       "      <td>5.0</td>\n",
       "      <td>0</td>\n",
       "    </tr>\n",
       "    <tr>\n",
       "      <th>1</th>\n",
       "      <td>340492</td>\n",
       "      <td>1.0</td>\n",
       "      <td>0</td>\n",
       "    </tr>\n",
       "    <tr>\n",
       "      <th>2</th>\n",
       "      <td>257382</td>\n",
       "      <td>4.0</td>\n",
       "      <td>0</td>\n",
       "    </tr>\n",
       "    <tr>\n",
       "      <th>3</th>\n",
       "      <td>505544</td>\n",
       "      <td>3.0</td>\n",
       "      <td>0</td>\n",
       "    </tr>\n",
       "    <tr>\n",
       "      <th>4</th>\n",
       "      <td>715966</td>\n",
       "      <td>4.0</td>\n",
       "      <td>0</td>\n",
       "    </tr>\n",
       "  </tbody>\n",
       "</table>\n",
       "</div>"
      ],
      "text/plain": [
       "   CustomerId  Rating  Movie_Id\n",
       "0     1750396     5.0         0\n",
       "1      340492     1.0         0\n",
       "2      257382     4.0         0\n",
       "3      505544     3.0         0\n",
       "4      715966     4.0         0"
      ]
     },
     "execution_count": 14,
     "metadata": {},
     "output_type": "execute_result"
    }
   ],
   "source": [
    "# remove probe data from orig data\n",
    "org_df = pd.merge(org_df, probe_df,how='left',  on=['CustomerId','Movie_Id', 'Rating'])\n",
    "org_df.head()"
   ]
  },
  {
   "cell_type": "code",
   "execution_count": 15,
   "metadata": {
    "collapsed": true
   },
   "outputs": [],
   "source": [
    "# split the data in training and testing data during training (70% training, 30% testing)\n",
    "train, test = train_test_split(org_df, random_state=42, test_size=0.3)"
   ]
  },
  {
   "cell_type": "code",
   "execution_count": 16,
   "metadata": {
    "collapsed": false
   },
   "outputs": [
    {
     "data": {
      "text/html": [
       "<div>\n",
       "<table border=\"1\" class=\"dataframe\">\n",
       "  <thead>\n",
       "    <tr style=\"text-align: right;\">\n",
       "      <th></th>\n",
       "      <th>CustomerId</th>\n",
       "      <th>Rating</th>\n",
       "      <th>Movie_Id</th>\n",
       "    </tr>\n",
       "  </thead>\n",
       "  <tbody>\n",
       "    <tr>\n",
       "      <th>220533</th>\n",
       "      <td>421839</td>\n",
       "      <td>5.0</td>\n",
       "      <td>15313</td>\n",
       "    </tr>\n",
       "    <tr>\n",
       "      <th>1261456</th>\n",
       "      <td>411030</td>\n",
       "      <td>5.0</td>\n",
       "      <td>4543</td>\n",
       "    </tr>\n",
       "    <tr>\n",
       "      <th>1871360</th>\n",
       "      <td>1430108</td>\n",
       "      <td>3.0</td>\n",
       "      <td>11701</td>\n",
       "    </tr>\n",
       "    <tr>\n",
       "      <th>1858368</th>\n",
       "      <td>1351132</td>\n",
       "      <td>5.0</td>\n",
       "      <td>4319</td>\n",
       "    </tr>\n",
       "    <tr>\n",
       "      <th>6079</th>\n",
       "      <td>2298601</td>\n",
       "      <td>4.0</td>\n",
       "      <td>15813</td>\n",
       "    </tr>\n",
       "  </tbody>\n",
       "</table>\n",
       "</div>"
      ],
      "text/plain": [
       "         CustomerId  Rating  Movie_Id\n",
       "220533       421839     5.0     15313\n",
       "1261456      411030     5.0      4543\n",
       "1871360     1430108     3.0     11701\n",
       "1858368     1351132     5.0      4319\n",
       "6079        2298601     4.0     15813"
      ]
     },
     "execution_count": 16,
     "metadata": {},
     "output_type": "execute_result"
    }
   ],
   "source": [
    "test.head()"
   ]
  },
  {
   "cell_type": "code",
   "execution_count": 17,
   "metadata": {
    "collapsed": false
   },
   "outputs": [],
   "source": [
    "# Remove the label -Rating from the train and test features and labels respectively (X_train, y_train, X_test, y_test \n",
    "X_test = test.loc[:, train.columns != 'Rating']\n",
    "y_test = test['Rating']\n",
    "X_train = train.loc[:, train.columns != 'Rating']\n",
    "y_train = train['Rating']"
   ]
  },
  {
   "cell_type": "code",
   "execution_count": 18,
   "metadata": {
    "collapsed": false
   },
   "outputs": [],
   "source": [
    "# evaluating SVDpp\n",
    "from surprise import Reader, Dataset, SVD, evaluate\n",
    "reader = Reader(rating_scale=(1, 5))\n",
    "\n",
    "#load data for evaluation\n",
    "data = Dataset.load_from_df(org_df[['CustomerId', 'Movie_Id', 'Rating']], reader) # if sampling, [:sampleSize]\n",
    "data.split(n_folds=3)\n",
    "\n",
    "svd = SVDpp()\n",
    "#evaluate(svd, data, measures=['RMSE', 'MAE'])"
   ]
  },
  {
   "cell_type": "code",
   "execution_count": 19,
   "metadata": {
    "collapsed": false
   },
   "outputs": [
    {
     "name": "stdout",
     "output_type": "stream",
     "text": [
      "[{'reg_all': 0.4, 'n_epochs': 5, 'lr_all': 0.002}, {'reg_all': 0.4, 'n_epochs': 5, 'lr_all': 0.005}, {'reg_all': 0.4, 'n_epochs': 8, 'lr_all': 0.002}, {'reg_all': 0.4, 'n_epochs': 8, 'lr_all': 0.005}, {'reg_all': 0.6, 'n_epochs': 5, 'lr_all': 0.002}, {'reg_all': 0.6, 'n_epochs': 5, 'lr_all': 0.005}, {'reg_all': 0.6, 'n_epochs': 8, 'lr_all': 0.002}, {'reg_all': 0.6, 'n_epochs': 8, 'lr_all': 0.005}]\n",
      "------------\n",
      "Parameters combination 1 of 8\n",
      "params:  {'reg_all': 0.4, 'n_epochs': 5, 'lr_all': 0.002}\n",
      "------------\n",
      "Mean RMSE: 1.0712\n",
      "------------\n",
      "------------\n",
      "Parameters combination 2 of 8\n",
      "params:  {'reg_all': 0.4, 'n_epochs': 5, 'lr_all': 0.005}\n",
      "------------\n",
      "Mean RMSE: 1.0602\n",
      "------------\n",
      "------------\n",
      "Parameters combination 3 of 8\n",
      "params:  {'reg_all': 0.4, 'n_epochs': 8, 'lr_all': 0.002}\n",
      "------------\n",
      "Mean RMSE: 1.0656\n",
      "------------\n",
      "------------\n",
      "Parameters combination 4 of 8\n",
      "params:  {'reg_all': 0.4, 'n_epochs': 8, 'lr_all': 0.005}\n",
      "------------\n",
      "Mean RMSE: 1.0534\n",
      "------------\n",
      "------------\n",
      "Parameters combination 5 of 8\n",
      "params:  {'reg_all': 0.6, 'n_epochs': 5, 'lr_all': 0.002}\n",
      "------------\n",
      "Mean RMSE: 1.0712\n",
      "------------\n",
      "------------\n",
      "Parameters combination 6 of 8\n",
      "params:  {'reg_all': 0.6, 'n_epochs': 5, 'lr_all': 0.005}\n",
      "------------\n",
      "Mean RMSE: 1.0606\n",
      "------------\n",
      "------------\n",
      "Parameters combination 7 of 8\n",
      "params:  {'reg_all': 0.6, 'n_epochs': 8, 'lr_all': 0.002}\n",
      "------------\n",
      "Mean RMSE: 1.0658\n",
      "------------\n",
      "------------\n",
      "Parameters combination 8 of 8\n",
      "params:  {'reg_all': 0.6, 'n_epochs': 8, 'lr_all': 0.005}\n",
      "------------\n",
      "Mean RMSE: 1.0541\n",
      "------------\n"
     ]
    }
   ],
   "source": [
    "# use GridSearch to finetune the hyper parameters for SVDpp namely,\n",
    "# 1. epochs(number of iterations of the stochastic gradient descent),\n",
    "# 2. learning rate(lr_all) and \n",
    "# 3. regularization(reg_all)\n",
    "\n",
    "from surprise import GridSearch\n",
    "param_grid = {'n_epochs': [5, 8], 'lr_all': [0.002, 0.005],\n",
    "              'reg_all': [0.4, 0.6]}\n",
    "grid_search = GridSearch(SVDpp, param_grid, measures=['RMSE'])\n",
    "grid_search.evaluate(data)"
   ]
  },
  {
   "cell_type": "code",
   "execution_count": 20,
   "metadata": {
    "collapsed": false
   },
   "outputs": [
    {
     "name": "stdout",
     "output_type": "stream",
     "text": [
      "1.05338928783\n"
     ]
    }
   ],
   "source": [
    "# the best RMSE performance for SVDpp\n",
    "print(grid_search.best_score['RMSE'])"
   ]
  },
  {
   "cell_type": "code",
   "execution_count": 21,
   "metadata": {
    "collapsed": false
   },
   "outputs": [
    {
     "name": "stdout",
     "output_type": "stream",
     "text": [
      "{'reg_all': 0.4, 'n_epochs': 8, 'lr_all': 0.005}\n"
     ]
    }
   ],
   "source": [
    "# the best RMSE performance parameters for SVDpp\n",
    "print(grid_search.best_params['RMSE'])\n"
   ]
  },
  {
   "cell_type": "code",
   "execution_count": 22,
   "metadata": {
    "collapsed": false
   },
   "outputs": [],
   "source": [
    "# apply the above parameters to the training dataset for SVDpp\n",
    "\n",
    "data = Dataset.load_from_df(train[['CustomerId', 'Movie_Id', 'Rating']], reader) #[:150000]\n",
    "data.split(n_folds=3)\n",
    "\n",
    "# applied the best hyper parameters for SVDapp found above\n",
    "algo1 = SVDpp(n_epochs= 8, lr_all= 0.005, reg_all=0.4)\n",
    "trainset = data.build_full_trainset()\n",
    "algo1.train(trainset)"
   ]
  },
  {
   "cell_type": "code",
   "execution_count": 23,
   "metadata": {
    "collapsed": false
   },
   "outputs": [
    {
     "name": "stdout",
     "output_type": "stream",
     "text": [
      "user: 30878      item: 1          r_ui = 4.00   est = 3.60   {'was_impossible': False}\n",
      "3.6046286298\n"
     ]
    }
   ],
   "source": [
    "#predict for a random user id with test set of TRAINING data\n",
    "uid = str(30878)  #  user id  \n",
    "mid = str(1)  #  movie id  \n",
    "# get a prediction for specific users and items.\n",
    "pred1 = algo1.predict(uid, mid, r_ui=4, verbose=True)\n",
    "print(pred1.est)"
   ]
  },
  {
   "cell_type": "code",
   "execution_count": 24,
   "metadata": {
    "collapsed": false
   },
   "outputs": [
    {
     "name": "stdout",
     "output_type": "stream",
     "text": [
      "[ 3.921  3.492  3.596 ...,  3.667  3.684  3.685]\n"
     ]
    }
   ],
   "source": [
    "# predict each of the values for the test split of the training dataset\n",
    "y_pred = list()\n",
    "#np.empty([y_test.shape[0],])\n",
    "np.set_printoptions(precision=3)\n",
    "for index,row in X_test.iterrows():\n",
    "    pred_val= algo1.predict(row['CustomerId'], row['Movie_Id'], verbose=False)\n",
    "    y_pred.append(pred_val.est)# = np.append(y_pred, [float()])\n",
    "\n",
    "\n",
    "y_pred_np = np.array(y_pred)\n",
    "print(y_pred_np)\n"
   ]
  },
  {
   "cell_type": "code",
   "execution_count": 25,
   "metadata": {
    "collapsed": false,
    "scrolled": true
   },
   "outputs": [
    {
     "name": "stdout",
     "output_type": "stream",
     "text": [
      "1.05150554602\n"
     ]
    }
   ],
   "source": [
    "# Training error in RMSE format\n",
    "print (np.sqrt(mean_squared_error(y_test, y_pred))) \n"
   ]
  },
  {
   "cell_type": "code",
   "execution_count": 26,
   "metadata": {
    "collapsed": false
   },
   "outputs": [],
   "source": [
    "#convert the probe dataframe to features and labels dataframe\n",
    "X_probe_df = probe_df.loc[:, probe_df.columns != 'Rating']\n",
    "y_probe_df = probe_df['Rating']\n"
   ]
  },
  {
   "cell_type": "code",
   "execution_count": 27,
   "metadata": {
    "collapsed": false
   },
   "outputs": [
    {
     "data": {
      "text/plain": [
       "(468, 2)"
      ]
     },
     "execution_count": 27,
     "metadata": {},
     "output_type": "execute_result"
    }
   ],
   "source": [
    "X_probe_df.shape"
   ]
  },
  {
   "cell_type": "code",
   "execution_count": 28,
   "metadata": {
    "collapsed": false
   },
   "outputs": [],
   "source": [
    "# predict each of the ratings for the probe dataset\n",
    "y_probe_pred = list() #np.empty([X_probe_df.shape[0],])\n",
    "\n",
    "\n",
    "for index,row in X_probe_df.iterrows():\n",
    "    probe_pred_val= algo1.predict(row['CustomerId'], row['Movie_Id'], verbose=False)\n",
    "    y_probe_pred.append(probe_pred_val.est)\n",
    "    y_probe_pred_np=np.array(y_probe_pred)\n",
    "\n",
    "#print(y_probe_pred_np)"
   ]
  },
  {
   "cell_type": "code",
   "execution_count": 29,
   "metadata": {
    "collapsed": false
   },
   "outputs": [
    {
     "name": "stdout",
     "output_type": "stream",
     "text": [
      "user: 30878      item: 1          r_ui = 4.00   est = 3.60   {'was_impossible': False}\n",
      "3.6046286298\n"
     ]
    }
   ],
   "source": [
    "#predict for a random user id with probe data\n",
    "uid = str(30878)  # raw user id \n",
    "mid = str(1)  # raw movie id \n",
    "\n",
    "# get a prediction for specific user and movie\n",
    "#for (uid, mid) in X_test['CustomerId', 'MovieId']:\n",
    "probe_pred = algo1.predict(uid, mid, r_ui=4, verbose=True) #r_ui is the actual rating\n",
    "print(probe_pred.est)"
   ]
  },
  {
   "cell_type": "code",
   "execution_count": 30,
   "metadata": {
    "collapsed": false
   },
   "outputs": [
    {
     "name": "stdout",
     "output_type": "stream",
     "text": [
      "0.983710088638\n"
     ]
    }
   ],
   "source": [
    "# Test(PROBE) error in RMSE format\n",
    "print (np.sqrt(mean_squared_error(y_probe_df, y_probe_pred))) "
   ]
  },
  {
   "cell_type": "code",
   "execution_count": 31,
   "metadata": {
    "collapsed": false
   },
   "outputs": [
    {
     "data": {
      "text/plain": [
       "['1,2,3']"
      ]
     },
     "execution_count": 31,
     "metadata": {},
     "output_type": "execute_result"
    }
   ],
   "source": [
    "'1,2,3'.split('#')"
   ]
  },
  {
   "cell_type": "code",
   "execution_count": null,
   "metadata": {
    "collapsed": true
   },
   "outputs": [],
   "source": []
  }
 ],
 "metadata": {
  "anaconda-cloud": {},
  "kernelspec": {
   "display_name": "Python [default]",
   "language": "python",
   "name": "python3"
  },
  "language_info": {
   "codemirror_mode": {
    "name": "ipython",
    "version": 3
   },
   "file_extension": ".py",
   "mimetype": "text/x-python",
   "name": "python",
   "nbconvert_exporter": "python",
   "pygments_lexer": "ipython3",
   "version": "3.5.2"
  }
 },
 "nbformat": 4,
 "nbformat_minor": 1
}
